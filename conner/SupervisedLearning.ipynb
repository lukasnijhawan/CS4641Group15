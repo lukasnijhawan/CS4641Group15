{
  "nbformat": 4,
  "nbformat_minor": 0,
  "metadata": {
    "colab": {
      "name": "SupervisedLearning.ipynb",
      "provenance": [],
      "collapsed_sections": []
    },
    "kernelspec": {
      "name": "python3",
      "display_name": "Python 3"
    }
  },
  "cells": [
    {
      "cell_type": "code",
      "metadata": {
        "colab": {
          "base_uri": "https://localhost:8080/"
        },
        "id": "T0Z_o87DSX67",
        "outputId": "71c08ba7-f094-4360-a709-8b588f370990"
      },
      "source": [
        "from google.colab import drive\n",
        "\n",
        "drive.mount('/content/gdrive')"
      ],
      "execution_count": 1,
      "outputs": [
        {
          "output_type": "stream",
          "text": [
            "Drive already mounted at /content/gdrive; to attempt to forcibly remount, call drive.mount(\"/content/gdrive\", force_remount=True).\n"
          ],
          "name": "stdout"
        }
      ]
    },
    {
      "cell_type": "code",
      "metadata": {
        "id": "beIcGp0dSdgp"
      },
      "source": [
        "import matplotlib.pyplot as plt\n",
        "import numpy as np\n",
        "import pandas as pd\n",
        "import seaborn as sn\n",
        "import sqlite3\n",
        "from sqlalchemy import create_engine\n",
        "from sklearn.cluster import KMeans\n",
        "from sklearn.decomposition import PCA\n",
        "from sklearn import preprocessing\n",
        "\n",
        "con = sqlite3.connect(\"/content/gdrive/My Drive/Colab Notebooks/wildfires.sqlite\")"
      ],
      "execution_count": 2,
      "outputs": []
    },
    {
      "cell_type": "code",
      "metadata": {
        "id": "midV-IFBSfNA"
      },
      "source": [
        "CATEGORICAL = [\"NWCG_REPORTING_AGENCY\", \"FIRE_SIZE_CLASS\", \"STATE\"]\n",
        "NUMERICAL = [\"FIRE_YEAR\", \"DISCOVERY_DOY\", \"DISCOVERY_DATE\", \"STAT_CAUSE_CODE\", \"CONT_DOY\", \"CONT_DATE\", \"FIRE_SIZE\", \"LATITUDE\", \"LONGITUDE\", \"OWNER_CODE\"]\n",
        "fires_table = pd.read_sql_query(\"SELECT * from Fires\", con)\n",
        "wildfires = fires_table[NUMERICAL + CATEGORICAL]"
      ],
      "execution_count": 3,
      "outputs": []
    },
    {
      "cell_type": "code",
      "metadata": {
        "colab": {
          "base_uri": "https://localhost:8080/"
        },
        "id": "2MIvTIj5Sgt1",
        "outputId": "2b15605d-a499-4095-8fbf-3829d837489c"
      },
      "source": [
        "wildfires.size"
      ],
      "execution_count": 4,
      "outputs": [
        {
          "output_type": "execute_result",
          "data": {
            "text/plain": [
              "24446045"
            ]
          },
          "metadata": {
            "tags": []
          },
          "execution_count": 4
        }
      ]
    },
    {
      "cell_type": "code",
      "metadata": {
        "colab": {
          "base_uri": "https://localhost:8080/"
        },
        "id": "IdXG_1MrTZJ0",
        "outputId": "7605c741-43c9-4714-f5ba-5e8b9e3a9b6d"
      },
      "source": [
        "large_wildfires = wildfires[~(wildfires[\"FIRE_SIZE_CLASS\"].isin([\"A\", \"B\", \"C\"]))]\n",
        "large_wildfires.size"
      ],
      "execution_count": 30,
      "outputs": [
        {
          "output_type": "execute_result",
          "data": {
            "text/plain": [
              "703209"
            ]
          },
          "metadata": {
            "tags": []
          },
          "execution_count": 30
        }
      ]
    },
    {
      "cell_type": "code",
      "metadata": {
        "id": "dyXnOZBSlE1t"
      },
      "source": [
        "from sklearn.preprocessing import LabelEncoder\n",
        "from collections import defaultdict\n",
        "d = defaultdict(LabelEncoder)\n",
        "\n",
        "# Encoding the variable\n",
        "large_wildfires = large_wildfires.apply(lambda x: d[x.name].fit_transform(x))\n",
        "\n",
        "# # Inverse the encoded\n",
        "# fit.apply(lambda x: d[x.name].inverse_transform(x))\n",
        "\n",
        "# # Using the dictionary to label future data\n",
        "# df.apply(lambda x: d[x.name].transform(x))"
      ],
      "execution_count": 36,
      "outputs": []
    },
    {
      "cell_type": "markdown",
      "metadata": {
        "id": "s1D39JSztbJs"
      },
      "source": [
        "To start with our supervised learning approaches, we drop attributes related to the fire size and split the data into train and test sets."
      ]
    },
    {
      "cell_type": "code",
      "metadata": {
        "id": "9C_sBfMqU37c"
      },
      "source": [
        "from sklearn.model_selection import train_test_split\n",
        "\n",
        "x = large_wildfires.drop([\"FIRE_SIZE_CLASS\", \"FIRE_SIZE\"], 1)\n",
        "X_train, X_test, y_train, y_test = train_test_split(x, large_wildfires[\"FIRE_SIZE_CLASS\"], test_size=0.3, random_state=15)"
      ],
      "execution_count": 37,
      "outputs": []
    },
    {
      "cell_type": "code",
      "metadata": {
        "colab": {
          "base_uri": "https://localhost:8080/"
        },
        "id": "Y0Mwevd3VOFS",
        "outputId": "7ee178d7-6c0e-4d00-be1a-d3d9421b5aa3"
      },
      "source": [
        "X_train.size, y_train.size"
      ],
      "execution_count": 38,
      "outputs": [
        {
          "output_type": "execute_result",
          "data": {
            "text/plain": [
              "(416515, 37865)"
            ]
          },
          "metadata": {
            "tags": []
          },
          "execution_count": 38
        }
      ]
    },
    {
      "cell_type": "code",
      "metadata": {
        "colab": {
          "base_uri": "https://localhost:8080/",
          "height": 204
        },
        "id": "3lOH9Ik1S1Bc",
        "outputId": "2bb61738-c7d8-4068-a779-07d6f40b0d38"
      },
      "source": [
        "X_train.head()"
      ],
      "execution_count": 39,
      "outputs": [
        {
          "output_type": "execute_result",
          "data": {
            "text/html": [
              "<div>\n",
              "<style scoped>\n",
              "    .dataframe tbody tr th:only-of-type {\n",
              "        vertical-align: middle;\n",
              "    }\n",
              "\n",
              "    .dataframe tbody tr th {\n",
              "        vertical-align: top;\n",
              "    }\n",
              "\n",
              "    .dataframe thead th {\n",
              "        text-align: right;\n",
              "    }\n",
              "</style>\n",
              "<table border=\"1\" class=\"dataframe\">\n",
              "  <thead>\n",
              "    <tr style=\"text-align: right;\">\n",
              "      <th></th>\n",
              "      <th>FIRE_YEAR</th>\n",
              "      <th>DISCOVERY_DOY</th>\n",
              "      <th>DISCOVERY_DATE</th>\n",
              "      <th>STAT_CAUSE_CODE</th>\n",
              "      <th>CONT_DOY</th>\n",
              "      <th>CONT_DATE</th>\n",
              "      <th>LATITUDE</th>\n",
              "      <th>LONGITUDE</th>\n",
              "      <th>OWNER_CODE</th>\n",
              "      <th>NWCG_REPORTING_AGENCY</th>\n",
              "      <th>STATE</th>\n",
              "    </tr>\n",
              "  </thead>\n",
              "  <tbody>\n",
              "    <tr>\n",
              "      <th>982695</th>\n",
              "      <td>4</td>\n",
              "      <td>63</td>\n",
              "      <td>1283</td>\n",
              "      <td>8</td>\n",
              "      <td>13902</td>\n",
              "      <td>19472</td>\n",
              "      <td>2010</td>\n",
              "      <td>43015</td>\n",
              "      <td>13</td>\n",
              "      <td>9</td>\n",
              "      <td>8</td>\n",
              "    </tr>\n",
              "    <tr>\n",
              "      <th>558669</th>\n",
              "      <td>8</td>\n",
              "      <td>0</td>\n",
              "      <td>2464</td>\n",
              "      <td>4</td>\n",
              "      <td>17713</td>\n",
              "      <td>8148</td>\n",
              "      <td>20777</td>\n",
              "      <td>19575</td>\n",
              "      <td>13</td>\n",
              "      <td>9</td>\n",
              "      <td>31</td>\n",
              "    </tr>\n",
              "    <tr>\n",
              "      <th>265261</th>\n",
              "      <td>14</td>\n",
              "      <td>221</td>\n",
              "      <td>4571</td>\n",
              "      <td>0</td>\n",
              "      <td>221</td>\n",
              "      <td>4059</td>\n",
              "      <td>36688</td>\n",
              "      <td>22870</td>\n",
              "      <td>1</td>\n",
              "      <td>0</td>\n",
              "      <td>40</td>\n",
              "    </tr>\n",
              "    <tr>\n",
              "      <th>997072</th>\n",
              "      <td>8</td>\n",
              "      <td>202</td>\n",
              "      <td>2659</td>\n",
              "      <td>0</td>\n",
              "      <td>10328</td>\n",
              "      <td>21575</td>\n",
              "      <td>4249</td>\n",
              "      <td>41446</td>\n",
              "      <td>13</td>\n",
              "      <td>9</td>\n",
              "      <td>8</td>\n",
              "    </tr>\n",
              "    <tr>\n",
              "      <th>1523251</th>\n",
              "      <td>17</td>\n",
              "      <td>290</td>\n",
              "      <td>5668</td>\n",
              "      <td>1</td>\n",
              "      <td>290</td>\n",
              "      <td>5070</td>\n",
              "      <td>8983</td>\n",
              "      <td>23016</td>\n",
              "      <td>12</td>\n",
              "      <td>9</td>\n",
              "      <td>42</td>\n",
              "    </tr>\n",
              "  </tbody>\n",
              "</table>\n",
              "</div>"
            ],
            "text/plain": [
              "         FIRE_YEAR  DISCOVERY_DOY  ...  NWCG_REPORTING_AGENCY  STATE\n",
              "982695           4             63  ...                      9      8\n",
              "558669           8              0  ...                      9     31\n",
              "265261          14            221  ...                      0     40\n",
              "997072           8            202  ...                      9      8\n",
              "1523251         17            290  ...                      9     42\n",
              "\n",
              "[5 rows x 11 columns]"
            ]
          },
          "metadata": {
            "tags": []
          },
          "execution_count": 39
        }
      ]
    },
    {
      "cell_type": "markdown",
      "metadata": {
        "id": "kZJcduVueilV"
      },
      "source": [
        "As a baseline classifier, we simply assign the most common fire size class to each fire. Our models must improve upon this number."
      ]
    },
    {
      "cell_type": "code",
      "metadata": {
        "colab": {
          "base_uri": "https://localhost:8080/"
        },
        "id": "cCniiCSPc3mH",
        "outputId": "ac7ff6cf-ae71-4317-a4d3-79441b28d9aa"
      },
      "source": [
        "large_wildfires[\"FIRE_SIZE_CLASS\"].value_counts().max() / large_wildfires[\"FIRE_SIZE_CLASS\"].size"
      ],
      "execution_count": 34,
      "outputs": [
        {
          "output_type": "execute_result",
          "data": {
            "text/plain": [
              "0.5255208622187714"
            ]
          },
          "metadata": {
            "tags": []
          },
          "execution_count": 34
        }
      ]
    },
    {
      "cell_type": "markdown",
      "metadata": {
        "id": "YFL1UgLos_dx"
      },
      "source": [
        "We start using a Gaussian Naive Bayes classifier. However, we expect poor performance because the features should be strongly correlated."
      ]
    },
    {
      "cell_type": "code",
      "metadata": {
        "id": "69FJGuc2tHKF"
      },
      "source": [
        "from sklearn.naive_bayes import GaussianNB\n",
        "from sklearn.metrics import classification_report"
      ],
      "execution_count": 10,
      "outputs": []
    },
    {
      "cell_type": "code",
      "metadata": {
        "colab": {
          "base_uri": "https://localhost:8080/"
        },
        "id": "zcqkSrQ6ulNv",
        "outputId": "94749840-850e-44b9-bfe9-6dedeb461733"
      },
      "source": [
        "gnb = GaussianNB()\n",
        "y_pred = gnb.fit(X_train, y_train).predict(X_test)\n",
        "gnb.score(X_test, y_test)"
      ],
      "execution_count": 11,
      "outputs": [
        {
          "output_type": "execute_result",
          "data": {
            "text/plain": [
              "0.44971653931476463"
            ]
          },
          "metadata": {
            "tags": []
          },
          "execution_count": 11
        }
      ]
    },
    {
      "cell_type": "code",
      "metadata": {
        "colab": {
          "base_uri": "https://localhost:8080/"
        },
        "id": "AFqkWM_w0CAr",
        "outputId": "6d5e6a28-fad8-4ea4-f983-76b4ce4f7f15"
      },
      "source": [
        "print(classification_report(y_test, y_pred, target_names=[\"D\", \"E\", \"F\", \"G\"]))"
      ],
      "execution_count": 12,
      "outputs": [
        {
          "output_type": "stream",
          "text": [
            "              precision    recall  f1-score   support\n",
            "\n",
            "           D       0.61      0.75      0.67      8423\n",
            "           E       0.28      0.01      0.03      4354\n",
            "           F       0.19      0.06      0.09      2335\n",
            "           G       0.16      0.70      0.26      1116\n",
            "\n",
            "    accuracy                           0.45     16228\n",
            "   macro avg       0.31      0.38      0.26     16228\n",
            "weighted avg       0.43      0.45      0.39     16228\n",
            "\n"
          ],
          "name": "stdout"
        }
      ]
    },
    {
      "cell_type": "markdown",
      "metadata": {
        "id": "qW50OPc_uaMN"
      },
      "source": [
        "This simple approach did not achieve the desired accuracy, so we next try a decision tree. We use the Gini impurity to measure the quality of a split instead of entropy because it does not require computing the log, which is computationally expensive."
      ]
    },
    {
      "cell_type": "code",
      "metadata": {
        "id": "iE559iXevgEg"
      },
      "source": [
        "from sklearn.tree import DecisionTreeClassifier\n",
        "from sklearn.model_selection import GridSearchCV"
      ],
      "execution_count": 13,
      "outputs": []
    },
    {
      "cell_type": "code",
      "metadata": {
        "id": "UH3LL5WXe3fb",
        "colab": {
          "base_uri": "https://localhost:8080/"
        },
        "outputId": "3af326cc-90ca-4993-ca5b-81d5de001454"
      },
      "source": [
        "clf = DecisionTreeClassifier()\n",
        "clf.fit(X_train, y_train)\n",
        "y_pred = clf.predict(X_test)\n",
        "clf.score(X_test, y_test)"
      ],
      "execution_count": 40,
      "outputs": [
        {
          "output_type": "execute_result",
          "data": {
            "text/plain": [
              "0.4526127680552132"
            ]
          },
          "metadata": {
            "tags": []
          },
          "execution_count": 40
        }
      ]
    },
    {
      "cell_type": "code",
      "metadata": {
        "colab": {
          "base_uri": "https://localhost:8080/"
        },
        "id": "H7ViCtDILyW9",
        "outputId": "e3942e20-74e1-4c8e-c941-a69d5660dcc7"
      },
      "source": [
        "clf.tree_.max_depth"
      ],
      "execution_count": 15,
      "outputs": [
        {
          "output_type": "execute_result",
          "data": {
            "text/plain": [
              "46"
            ]
          },
          "metadata": {
            "tags": []
          },
          "execution_count": 15
        }
      ]
    },
    {
      "cell_type": "code",
      "metadata": {
        "colab": {
          "base_uri": "https://localhost:8080/"
        },
        "id": "eEanonvR3okQ",
        "outputId": "c8658b7c-16aa-4abf-e6bd-08c363d6b6d9"
      },
      "source": [
        "print(classification_report(y_test, y_pred, target_names=[\"D\", \"E\", \"F\", \"G\"]))"
      ],
      "execution_count": 16,
      "outputs": [
        {
          "output_type": "stream",
          "text": [
            "              precision    recall  f1-score   support\n",
            "\n",
            "           D       0.62      0.60      0.61      8423\n",
            "           E       0.30      0.31      0.31      4354\n",
            "           F       0.22      0.22      0.22      2335\n",
            "           G       0.29      0.29      0.29      1116\n",
            "\n",
            "    accuracy                           0.45     16228\n",
            "   macro avg       0.36      0.36      0.36     16228\n",
            "weighted avg       0.45      0.45      0.45     16228\n",
            "\n"
          ],
          "name": "stdout"
        }
      ]
    },
    {
      "cell_type": "markdown",
      "metadata": {
        "id": "a7PyEAhmL1Sa"
      },
      "source": [
        "Let's see if we can improve on this by varying the max_depth parameter."
      ]
    },
    {
      "cell_type": "code",
      "metadata": {
        "colab": {
          "base_uri": "https://localhost:8080/"
        },
        "id": "XO85I2pq1ZXX",
        "outputId": "bd98bf79-cc07-44cc-880f-9162ee254c98"
      },
      "source": [
        "grid = {\"max_depth\": [20, 30, 40, 50, 60, 70, 80, 90]}\n",
        "clf = GridSearchCV(estimator=DecisionTreeClassifier(), param_grid=grid)\n",
        "y_pred = clf.fit(X_train, y_train).predict(X_test)\n",
        "clf.score(X_test, y_test)"
      ],
      "execution_count": 17,
      "outputs": [
        {
          "output_type": "execute_result",
          "data": {
            "text/plain": [
              "0.46999014049790483"
            ]
          },
          "metadata": {
            "tags": []
          },
          "execution_count": 17
        }
      ]
    },
    {
      "cell_type": "code",
      "metadata": {
        "colab": {
          "base_uri": "https://localhost:8080/"
        },
        "id": "dJTFFd8CQubc",
        "outputId": "fdc447df-6a6c-428d-f504-66fcad4bad4b"
      },
      "source": [
        "clf.best_params_"
      ],
      "execution_count": 18,
      "outputs": [
        {
          "output_type": "execute_result",
          "data": {
            "text/plain": [
              "{'max_depth': 20}"
            ]
          },
          "metadata": {
            "tags": []
          },
          "execution_count": 18
        }
      ]
    },
    {
      "cell_type": "code",
      "metadata": {
        "colab": {
          "base_uri": "https://localhost:8080/"
        },
        "id": "u6Sg1gNb6LDO",
        "outputId": "5ffe31f3-344f-4ab2-bc7c-96aa9d1d12f9"
      },
      "source": [
        "print(classification_report(y_test, y_pred, target_names=[\"D\", \"E\", \"F\", \"G\"]))"
      ],
      "execution_count": 19,
      "outputs": [
        {
          "output_type": "stream",
          "text": [
            "              precision    recall  f1-score   support\n",
            "\n",
            "           D       0.61      0.67      0.64      8423\n",
            "           E       0.31      0.29      0.30      4354\n",
            "           F       0.22      0.19      0.21      2335\n",
            "           G       0.30      0.26      0.28      1116\n",
            "\n",
            "    accuracy                           0.47     16228\n",
            "   macro avg       0.36      0.35      0.36     16228\n",
            "weighted avg       0.45      0.47      0.46     16228\n",
            "\n"
          ],
          "name": "stdout"
        }
      ]
    },
    {
      "cell_type": "markdown",
      "metadata": {
        "id": "ak9slQDRMPUX"
      },
      "source": [
        "We find that the accuracy increases by a slight amount but not to the level that we need. Let's try using a random forest."
      ]
    },
    {
      "cell_type": "code",
      "metadata": {
        "id": "N8TQmTakrepd"
      },
      "source": [
        "from sklearn.ensemble import RandomForestClassifier"
      ],
      "execution_count": 20,
      "outputs": []
    },
    {
      "cell_type": "code",
      "metadata": {
        "colab": {
          "base_uri": "https://localhost:8080/"
        },
        "id": "nukmcVTJrj3G",
        "outputId": "e0641042-87f1-4ecc-f1fa-a63d71ac258a"
      },
      "source": [
        "clf = RandomForestClassifier()\n",
        "clf.fit(X_train, y_train)\n",
        "clf.score(X_test,y_test)"
      ],
      "execution_count": 21,
      "outputs": [
        {
          "output_type": "execute_result",
          "data": {
            "text/plain": [
              "0.5195341385260044"
            ]
          },
          "metadata": {
            "tags": []
          },
          "execution_count": 21
        }
      ]
    },
    {
      "cell_type": "markdown",
      "metadata": {
        "id": "oUW7-k-BRI_d"
      },
      "source": [
        "Let's try some hyperparameter tuning."
      ]
    },
    {
      "cell_type": "code",
      "metadata": {
        "id": "HD7Vva6lROBJ"
      },
      "source": [
        "# n_estimators = [100, 200, 300]\n",
        "# max_depth = [20, 30, 40, 50]\n",
        "n_estimators = [200]\n",
        "max_depth = [20]\n",
        "grid = {\"n_estimators\": n_estimators, \"max_depth\": max_depth}"
      ],
      "execution_count": 22,
      "outputs": []
    },
    {
      "cell_type": "code",
      "metadata": {
        "colab": {
          "base_uri": "https://localhost:8080/"
        },
        "id": "PfnuUDfSRrpT",
        "outputId": "bdc1cb7d-90af-4d32-efbc-92d87e0ab14b"
      },
      "source": [
        "clf = GridSearchCV(estimator=RandomForestClassifier(), param_grid=grid)\n",
        "clf.fit(X_train, y_train)\n",
        "clf.score(X_test,y_test)"
      ],
      "execution_count": 23,
      "outputs": [
        {
          "output_type": "execute_result",
          "data": {
            "text/plain": [
              "0.5330909539068277"
            ]
          },
          "metadata": {
            "tags": []
          },
          "execution_count": 23
        }
      ]
    },
    {
      "cell_type": "code",
      "metadata": {
        "colab": {
          "base_uri": "https://localhost:8080/"
        },
        "id": "MBxe9VE9W5p5",
        "outputId": "bfa11dcf-6841-4b05-e0cf-ca8fb60cd552"
      },
      "source": [
        "clf.best_params_"
      ],
      "execution_count": 24,
      "outputs": [
        {
          "output_type": "execute_result",
          "data": {
            "text/plain": [
              "{'max_depth': 20, 'n_estimators': 200}"
            ]
          },
          "metadata": {
            "tags": []
          },
          "execution_count": 24
        }
      ]
    },
    {
      "cell_type": "markdown",
      "metadata": {
        "id": "AdffjKW5rVOo"
      },
      "source": [
        "Finally, we use the XGBoost (extreme gradient boosting) algorithm."
      ]
    },
    {
      "cell_type": "code",
      "metadata": {
        "id": "cV311tEF_sLc"
      },
      "source": [
        "from xgboost.sklearn import XGBClassifier\n",
        "from sklearn.metrics import accuracy_score"
      ],
      "execution_count": 25,
      "outputs": []
    },
    {
      "cell_type": "code",
      "metadata": {
        "id": "0hnzOVXzAWJ5"
      },
      "source": [
        "params = {\n",
        "        'min_child_weight': [1, 5, 10],\n",
        "        'gamma': [0.5, 1, 1.5, 2, 5],\n",
        "        'subsample': [0.6, 0.8, 1.0],\n",
        "        'colsample_bytree': [0.6, 0.8, 1.0],\n",
        "        'max_depth': [3, 4, 5]\n",
        "        }"
      ],
      "execution_count": 26,
      "outputs": []
    },
    {
      "cell_type": "code",
      "metadata": {
        "colab": {
          "base_uri": "https://localhost:8080/"
        },
        "id": "zLpaHIVV_w5C",
        "outputId": "6ae6d71e-9208-45c6-ddae-c92190b2cbd9"
      },
      "source": [
        "clf = XGBClassifier(gamma=0.5, max_depth=5, subsample=0.8, min_child_weight=5)\n",
        "y_pred = clf.fit(X_train, y_train).predict(X_test)\n",
        "clf.score(X_test, y_test)"
      ],
      "execution_count": 27,
      "outputs": [
        {
          "output_type": "execute_result",
          "data": {
            "text/plain": [
              "0.5400542272615233"
            ]
          },
          "metadata": {
            "tags": []
          },
          "execution_count": 27
        }
      ]
    },
    {
      "cell_type": "code",
      "metadata": {
        "colab": {
          "base_uri": "https://localhost:8080/"
        },
        "id": "GKSli54PBSBS",
        "outputId": "6609af0f-d1d4-4002-d422-ac0905602aaa"
      },
      "source": [
        "print(classification_report(y_test, y_pred, target_names=[\"D\", \"E\", \"F\", \"G\"]))"
      ],
      "execution_count": 28,
      "outputs": [
        {
          "output_type": "stream",
          "text": [
            "              precision    recall  f1-score   support\n",
            "\n",
            "           D       0.56      0.96      0.71      8423\n",
            "           E       0.33      0.06      0.10      4354\n",
            "           F       0.30      0.07      0.12      2335\n",
            "           G       0.47      0.27      0.34      1116\n",
            "\n",
            "    accuracy                           0.54     16228\n",
            "   macro avg       0.42      0.34      0.32     16228\n",
            "weighted avg       0.46      0.54      0.43     16228\n",
            "\n"
          ],
          "name": "stdout"
        }
      ]
    },
    {
      "cell_type": "code",
      "metadata": {
        "id": "BvOacQ_czUH7"
      },
      "source": [
        "from sklearn.svm import SVC"
      ],
      "execution_count": 29,
      "outputs": []
    },
    {
      "cell_type": "code",
      "metadata": {
        "id": "orj8tzTVUI6-"
      },
      "source": [
        "sample = large_wildfires.sample(frac=0.01)\n",
        "x = sample.drop([\"FIRE_SIZE_CLASS\", \"FIRE_SIZE\"], 1)\n",
        "X_train, X_test, y_train, y_test = train_test_split(x, sample[\"FIRE_SIZE_CLASS\"], test_size=0.3, random_state=15)"
      ],
      "execution_count": 49,
      "outputs": []
    },
    {
      "cell_type": "code",
      "metadata": {
        "id": "mFrG14hsUkz_"
      },
      "source": [
        "clf = SVC(kernel=\"linear\")\n",
        "clf.fit(X_train, y_train)\n",
        "clf.score(X_test, y_test)"
      ],
      "execution_count": null,
      "outputs": []
    }
  ]
}