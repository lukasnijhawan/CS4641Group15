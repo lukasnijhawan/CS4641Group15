{
  "nbformat": 4,
  "nbformat_minor": 0,
  "metadata": {
    "colab": {
      "name": "SupervisedLearning.ipynb",
      "provenance": [],
      "collapsed_sections": []
    },
    "kernelspec": {
      "name": "python3",
      "display_name": "Python 3"
    }
  },
  "cells": [
    {
      "cell_type": "code",
      "metadata": {
        "colab": {
          "base_uri": "https://localhost:8080/"
        },
        "id": "T0Z_o87DSX67",
        "outputId": "c3aad6c6-8a80-4190-9a6d-11fd6e499931"
      },
      "source": [
        "from google.colab import drive\n",
        "\n",
        "drive.mount('/content/gdrive')"
      ],
      "execution_count": 1,
      "outputs": [
        {
          "output_type": "stream",
          "text": [
            "Mounted at /content/gdrive\n"
          ],
          "name": "stdout"
        }
      ]
    },
    {
      "cell_type": "code",
      "metadata": {
        "id": "beIcGp0dSdgp"
      },
      "source": [
        "import matplotlib.pyplot as plt\n",
        "import numpy as np\n",
        "import pandas as pd\n",
        "import seaborn as sn\n",
        "import sqlite3\n",
        "from sqlalchemy import create_engine\n",
        "from sklearn.cluster import KMeans\n",
        "from sklearn.decomposition import PCA\n",
        "from sklearn import preprocessing\n",
        "\n",
        "con = sqlite3.connect(\"/content/gdrive/My Drive/Colab Notebooks/wildfires.sqlite\")"
      ],
      "execution_count": 2,
      "outputs": []
    },
    {
      "cell_type": "code",
      "metadata": {
        "id": "midV-IFBSfNA"
      },
      "source": [
        "CATEGORICAL = [\"NWCG_REPORTING_AGENCY\", \"FIRE_SIZE_CLASS\", \"STATE\"]\n",
        "NUMERICAL = [\"FIRE_YEAR\", \"DISCOVERY_DOY\", \"DISCOVERY_DATE\", \"STAT_CAUSE_CODE\", \"CONT_DOY\", \"CONT_DATE\", \"FIRE_SIZE\", \"LATITUDE\", \"LONGITUDE\", \"OWNER_CODE\"]\n",
        "fires_table = pd.read_sql_query(\"SELECT * from Fires\", con)\n",
        "wildfires = fires_table[NUMERICAL + CATEGORICAL]"
      ],
      "execution_count": 12,
      "outputs": []
    },
    {
      "cell_type": "code",
      "metadata": {
        "colab": {
          "base_uri": "https://localhost:8080/"
        },
        "id": "2MIvTIj5Sgt1",
        "outputId": "a47610bf-b52d-4568-dde6-c2087bc6f392"
      },
      "source": [
        "wildfires.size"
      ],
      "execution_count": 13,
      "outputs": [
        {
          "output_type": "execute_result",
          "data": {
            "text/plain": [
              "24446045"
            ]
          },
          "metadata": {
            "tags": []
          },
          "execution_count": 13
        }
      ]
    },
    {
      "cell_type": "code",
      "metadata": {
        "colab": {
          "base_uri": "https://localhost:8080/"
        },
        "id": "IdXG_1MrTZJ0",
        "outputId": "29eca507-cb0e-412d-efd0-5cc1b617d500"
      },
      "source": [
        "large_wildfires = wildfires.loc[wildfires[\"FIRE_SIZE\"] > 10]\n",
        "large_wildfires.size"
      ],
      "execution_count": 40,
      "outputs": [
        {
          "output_type": "execute_result",
          "data": {
            "text/plain": [
              "3106415"
            ]
          },
          "metadata": {
            "tags": []
          },
          "execution_count": 40
        }
      ]
    },
    {
      "cell_type": "code",
      "metadata": {
        "id": "dyXnOZBSlE1t"
      },
      "source": [
        "from sklearn.preprocessing import LabelEncoder\n",
        "from collections import defaultdict\n",
        "d = defaultdict(LabelEncoder)\n",
        "\n",
        "# Encoding the variable\n",
        "large_wildfires = large_wildfires.apply(lambda x: d[x.name].fit_transform(x))\n",
        "\n",
        "# # Inverse the encoded\n",
        "# fit.apply(lambda x: d[x.name].inverse_transform(x))\n",
        "\n",
        "# # Using the dictionary to label future data\n",
        "# df.apply(lambda x: d[x.name].transform(x))"
      ],
      "execution_count": 46,
      "outputs": []
    },
    {
      "cell_type": "code",
      "metadata": {
        "id": "9C_sBfMqU37c"
      },
      "source": [
        "from sklearn.model_selection import train_test_split\n",
        "\n",
        "x = large_wildfires.drop(\"FIRE_SIZE_CLASS\", 1)\n",
        "X_train, X_test, y_train, y_test = train_test_split(x, large_wildfires[\"FIRE_SIZE_CLASS\"], test_size=0.2, random_state=15)"
      ],
      "execution_count": 54,
      "outputs": []
    },
    {
      "cell_type": "code",
      "metadata": {
        "colab": {
          "base_uri": "https://localhost:8080/"
        },
        "id": "Y0Mwevd3VOFS",
        "outputId": "0bdd88e5-156c-4359-9f67-b2ba21dc4eb8"
      },
      "source": [
        "X_train.size, y_train.size"
      ],
      "execution_count": 59,
      "outputs": [
        {
          "output_type": "execute_result",
          "data": {
            "text/plain": [
              "(2293968, 191164)"
            ]
          },
          "metadata": {
            "tags": []
          },
          "execution_count": 59
        }
      ]
    },
    {
      "cell_type": "markdown",
      "metadata": {
        "id": "kZJcduVueilV"
      },
      "source": [
        "As a baseline classifier, we simply assign the most common fire size class to each fire. Our models must improve upon this number."
      ]
    },
    {
      "cell_type": "code",
      "metadata": {
        "colab": {
          "base_uri": "https://localhost:8080/"
        },
        "id": "cCniiCSPc3mH",
        "outputId": "b432116b-9e3a-4a59-9242-892dc5019ae2"
      },
      "source": [
        "large_wildfires[\"FIRE_SIZE_CLASS\"].value_counts().max() / large_wildfires[\"FIRE_SIZE_CLASS\"].size"
      ],
      "execution_count": 60,
      "outputs": [
        {
          "output_type": "execute_result",
          "data": {
            "text/plain": [
              "0.7736268335042162"
            ]
          },
          "metadata": {
            "tags": []
          },
          "execution_count": 60
        }
      ]
    },
    {
      "cell_type": "code",
      "metadata": {
        "id": "UH3LL5WXe3fb"
      },
      "source": [
        "from sklearn import tree\n",
        "\n",
        "clf = tree.DecisionTreeClassifier()\n",
        "clf = clf.fit(X_train, y_train)"
      ],
      "execution_count": 61,
      "outputs": []
    },
    {
      "cell_type": "code",
      "metadata": {
        "colab": {
          "base_uri": "https://localhost:8080/",
          "height": 401
        },
        "id": "tmXzVJd1kYIK",
        "outputId": "eb786fec-f4b6-48ce-f5ce-bba42bf7681a"
      },
      "source": [
        "tree.plot_tree(clf) "
      ],
      "execution_count": 62,
      "outputs": [
        {
          "output_type": "execute_result",
          "data": {
            "text/plain": [
              "[Text(95.65714285714286, 195.696, 'X[6] <= 3767.5\\ngini = 0.382\\nsamples = 191164\\nvalue = [147946, 22690, 11304, 6227, 2997]'),\n",
              " Text(47.82857142857143, 152.208, 'gini = 0.0\\nsamples = 147946\\nvalue = [147946, 0, 0, 0, 0]'),\n",
              " Text(143.4857142857143, 152.208, 'X[6] <= 5113.0\\ngini = 0.63\\nsamples = 43218\\nvalue = [0, 22690, 11304, 6227, 2997]'),\n",
              " Text(95.65714285714286, 108.72, 'gini = 0.0\\nsamples = 22690\\nvalue = [0, 22690, 0, 0, 0]'),\n",
              " Text(191.31428571428572, 108.72, 'X[6] <= 6515.5\\ngini = 0.583\\nsamples = 20528\\nvalue = [0, 0, 11304, 6227, 2997]'),\n",
              " Text(143.4857142857143, 65.232, 'gini = 0.0\\nsamples = 11304\\nvalue = [0, 0, 11304, 0, 0]'),\n",
              " Text(239.14285714285714, 65.232, 'X[6] <= 9250.5\\ngini = 0.439\\nsamples = 9224\\nvalue = [0, 0, 0, 6227, 2997]'),\n",
              " Text(191.31428571428572, 21.744, 'gini = 0.0\\nsamples = 6227\\nvalue = [0, 0, 0, 6227, 0]'),\n",
              " Text(286.9714285714286, 21.744, 'gini = 0.0\\nsamples = 2997\\nvalue = [0, 0, 0, 0, 2997]')]"
            ]
          },
          "metadata": {
            "tags": []
          },
          "execution_count": 62
        },
        {
          "output_type": "display_data",
          "data": {
            "image/png": "[encoded data removed]",
            "text/plain": [
              "<Figure size 432x288 with 1 Axes>"
            ]
          },
          "metadata": {
            "tags": [],
            "needs_background": "light"
          }
        }
      ]
    },
    {
      "cell_type": "code",
      "metadata": {
        "id": "CmUSJsfmnAgw"
      },
      "source": [
        "pred = clf.predict(X_test)"
      ],
      "execution_count": 70,
      "outputs": []
    },
    {
      "cell_type": "code",
      "metadata": {
        "colab": {
          "base_uri": "https://localhost:8080/"
        },
        "id": "M0fttW4Zny_U",
        "outputId": "65290c94-ad4e-4b18-e3ba-1fc47f8b823b"
      },
      "source": [
        "np.mean(pred != y_test)"
      ],
      "execution_count": 71,
      "outputs": [
        {
          "output_type": "execute_result",
          "data": {
            "text/plain": [
              "0.0"
            ]
          },
          "metadata": {
            "tags": []
          },
          "execution_count": 71
        }
      ]
    }
  ]
}